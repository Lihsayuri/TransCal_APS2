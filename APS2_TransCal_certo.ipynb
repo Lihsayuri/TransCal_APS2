{
 "cells": [
  {
   "cell_type": "markdown",
   "metadata": {},
   "source": [
    "## TRANSFERÊNCIA DE CALOR E MECÂNICA DOS SÓLIDOS\n",
    "\n",
    "## APS 2 : Aplicação do método de diferenças finitas\n",
    "\n",
    "<p> Alunos(a): Bernardo Cunha Capoferri </p>\n",
    "<p>  Guilherme Dantas Rameh </p>\n",
    "<p>  Henrique Martinelli Frezzatti </p>\n",
    "<p>  Lívia Sayuri Makuta </p>\n",
    "\n"
   ]
  },
  {
   "cell_type": "markdown",
   "metadata": {},
   "source": [
    "<h4>DEFINIÇÃO DO PROBLEMA</h4>\n",
    "\n",
    "\n",
    "A função deve receber: <br>\n",
    "* Dados do material: densidade do material, calor específico, condutividade térmica. <br>\n",
    "* Dados do ambiente: coeficiente de transferência por convecção, temperatura do fluido.<br>\n",
    "* Dados do dissipador: temperatura da base, raio, comprimento. <br>\n",
    "* Dados do modelo numérico: $\\Delta\\ x$, tempo total da simulação. <br>\n",
    "\n",
    "A função deve retornar: Um gráfico (𝑇𝑒𝑚𝑝𝑒𝑟𝑎𝑡𝑢𝑟𝑎 × 𝑝𝑜𝑠𝑖çã𝑜) com o resultado numérico. Um gráfico (𝑇𝑒𝑚𝑝𝑒𝑟𝑎𝑡𝑢𝑟𝑎 × 𝑝𝑜𝑠𝑖çã𝑜) com o resultado analítico. Use legendas e indique as unidades usadas. "
   ]
  },
  {
   "cell_type": "markdown",
   "metadata": {},
   "source": [
    "<p> Considere uma aleta de seção transversal circular e constante, com temperatura fixa na base e exposta ao ambiente em\n",
    "todas as outras superfícies. Podemos esboçar as entradas e saídas de energia em um volume de controle definido ao\n",
    "redor de uma seção como indica a Figura 1. </p> <br> <br>\n",
    "\n",
    "<div align=\"center\">\n",
    "<img src=\"img_ex1_aps2.png\" alt=\"Drawing\" style=\"width: 500px;\"/>\n",
    "</div>\n",
    "\n",
    "<br><br>\n",
    "\n",
    "* $qx$ taxa de transferência de calor por condução em $x$.\n",
    "* $qx+dx$ taxa de transferência de calor por condução em $x + dx$. \n",
    "* $dq_{conv}$ taxa de transferência de calor por convecção através da área superficial do elemento diferencial. "
   ]
  },
  {
   "cell_type": "markdown",
   "metadata": {},
   "source": [
    "Substituindo as equações de taxa $q_{x}$, $q_{x+dx}$ e $dq_{conv}$ podemos obter a forma geral da equação da energia para uma\n",
    "superfície estendida, em regime transiente como mostrado na figura 2: "
   ]
  },
  {
   "cell_type": "markdown",
   "metadata": {},
   "source": [
    "<div align = \"center\">\n",
    "<figure>\n",
    "<img src=\"equation_1_aps2.png\" alt=\"Drawing\" style=\"width: 250px;\"/>\n",
    "<figcaption> Figura 2 - Forma geral da equação de energia para uma superfície estendida.</figcaption>\n",
    "</figure>\n",
    "</div>"
   ]
  },
  {
   "cell_type": "markdown",
   "metadata": {},
   "source": [
    "Onde ${\\alpha}$ é a difusividade do material, $A_{tr}$ é a área da seção transversal da aleta, $h$ é o coeficiente de transferência de calor por convecção, $k$ é a condutividade térmica do material da aleta e $P$ é o perímetro da seção da aleta."
   ]
  },
  {
   "cell_type": "markdown",
   "metadata": {},
   "source": [
    "<h4>ROTEIRO DE ATIVIDADES</h4>\n",
    "\n",
    "<h5>Pergunta</h5>\n",
    "\n",
    "**1)**  Aplique os conceitos do método das diferenças finitas na equação diferencial do problema para definir uma equação de diferença algébrica associada aos nós da aleta. Considere para a segunda derivada da temperatura no espaço uma equação de diferença finita centrada e para a primeira derivada no tempo da temperatura uma equação de diferença progressiva. Apresente o desenvolvimento das equações. \n"
   ]
  },
  {
   "cell_type": "markdown",
   "metadata": {},
   "source": [
    "<h5> Resposta </h5>\n",
    "\n",
    "Partindo da equação mostrada anteriormente na figura 2, substituímos os termos contínuos, isto é, as derivadas segunda e primeira por uma equação de diferença finita centrada e por uma equação de diferença progressiva, respectivamente. Ambas as equações foram vistas na aula 7.\n",
    "\n",
    "Com essas mudanças feitas, isolamos a próxima temperatura no tempo, representada por $T_{i}^{l+1}$, para obter no fim um gráfico com os valores da temperatura ao longo do comprimento da aleta. Todos os passos dessa transformação podem ser vistos abaixo na figura 3:"
   ]
  },
  {
   "cell_type": "markdown",
   "metadata": {},
   "source": [
    "<div align=\"center\">\n",
    "<figure>\n",
    "<img src=\"equacoes_1_aps2.png\" alt=\"Drawing\" style=\"width: 550px;\"/>\n",
    "<figcaption> Figura 3 - Desenvolvimento da transformação feita na equação original para implementar a resolução do problema através de um método numérico.</figcaption>\n",
    "</figure>\n",
    "</div>"
   ]
  },
  {
   "cell_type": "markdown",
   "metadata": {},
   "source": [
    "<h5>Pergunta</h5>\n",
    "\n",
    "2. Apresente um gráfico (𝑇𝑒𝑚𝑝𝑒𝑟𝑎𝑡𝑢𝑟𝑎 × 𝑝𝑜𝑠𝑖çã𝑜) após obter o regime permanente. Use uma tolerância de $tol = 10^{-10}$. Considere que a aleta, de comprimento $𝐿 = 300mm$, densidade de $2700 \\frac{kg}{m^3}$ , condutividade térmica de $180\\frac{W}{mK}$ e calor específico $896\\frac{J}{kgK}$, tem a temperatura especificada na extremidade de $𝑇(𝐿) = 25℃$. A aleta está em contato com uma base a $𝑇b = 100℃$ em um ambiente a $𝑇{\\infty} = 50℃$ e $h = 50\\frac{W}{m^{2}K}$. Para a condição de estabilidade do procedimento numérico use $\\Delta𝑡 ≤ \\frac{\\Delta\\ x^{2}}{\\alpha \\cdot(\\frac{hP\\Delta\\ x^{2}}{k\\ A_{tr}}) + 2}$\n",
    "\n"
   ]
  },
  {
   "cell_type": "markdown",
   "metadata": {},
   "source": [
    "<h5>Resposta</h5>\n",
    "\n",
    "Primeiro começamos definindo os parâmetros passados pelo exercício, e para isso também precisamos importar algumas bibliotecas. Essa etapa pode ser vista na célula abaixo:"
   ]
  },
  {
   "cell_type": "code",
   "execution_count": 1,
   "metadata": {},
   "outputs": [],
   "source": [
    "from math import *\n",
    "import numpy as np\n",
    "import matplotlib.pyplot as plt\n",
    "\n",
    "# tolerância de erro:\n",
    "tol = 1e-10\n",
    "\n",
    "# Comprimento da aleta:\n",
    "L = 300e-3 # [m]\n",
    "\n",
    "# Raio da aleta:\n",
    "r = 3e-3 # [m]\n",
    "\n",
    "# Densidade da aleta:\n",
    "rho = 2700 # [kg/ m^3]\n",
    "\n",
    "# Condutividade térmica:\n",
    "k = 180 # [W/(mK)]\n",
    "\n",
    "# Calor específico:\n",
    "cp = 896 # [J/(kgK)]\n",
    "\n",
    "# Termo alfa:\n",
    "alfa = k/(rho*cp)\n",
    "\n",
    "# Temperatura especificada na extremidade:\n",
    "T_L = 25 # 25 [ºC] \n",
    "\n",
    "# Temperatura da base:\n",
    "T_b = 100 # 100 [ºC]\n",
    "\n",
    "# Temperatura do ambiente/fluido:\n",
    "T_inf = 50 # 50 [ºC]\n",
    "\n",
    "# Coeficiente de convecção:\n",
    "h = 50 # [W/(m^2K)]\n",
    "\n",
    "# Variação em x:\n",
    "delta_x = 1e-3    # [m]\n",
    "\n",
    "#Tempo total da simulação\n",
    "t_total = 10000 # [s]\n",
    "\n"
   ]
  },
  {
   "cell_type": "markdown",
   "metadata": {},
   "source": [
    "Observação: definimos o raio da aleta como $10^{-3}$ metros pois não foi dado pelo exercício e é um valor extremamente pequeno se comparado com o comprimento da aleta, o que nos permite adotar uma resolução unidimensional. \n",
    "\n",
    "Assim, com todos os parâmetros definidos, montamos uma função chamada **calculo_T_numerico** que recebe como entrada o delta x (intervalo adotado entre a posição atual e a próxima posição no eixo x da aleta em metros), o raio $[m]$, o coeficiente de convecção térmica $[\\frac{W}{m^{2}K}]$, a condutividade térmica $[\\frac{W}{mK}]$, a temperatura da base $[℃]$, a temperatura do ambiente/fluido $[℃]$, o termo alfa (divisão de $k$ por densidade e calor específico) e o tempo total requerido pela simulação $[s]$ a fim de plotar o gráfico de temperatura $[℃]$ por posição $[m]$.\n",
    "\n",
    "Primeiro começamos calculando o delta t, já que para manter a estabilidade esse intervalo de tempo deveria ser $≤\\frac{\\Delta\\ x^{2}}{\\alpha \\cdot(\\frac{hP\\Delta\\ x^{2}}{k\\ A_{tr}}) + 2}$. E para garantirmos isso, usamos 99% de $\\frac{\\Delta\\ x^{2}}{\\alpha \\cdot(\\frac{hP\\Delta\\ x^{2}}{k\\ A_{tr}}) + 2}$ . Além disso, calculamos a área de transferência de calor e o perímetro da área de seção transversal da aleta. \n",
    "\n",
    "Feito isso, utilizamos o método das diferenças finitas que é um método aproximado para determinar a temperatura em pontos discretos (nodal) do sistema físico. Para isso começamos preenchendo uma matriz com zeros, sendo essa matriz determinada pelo número de pontos no tempo e número de pontos no eixo x (número total de todos os pequenos intervalos ao longo do comprimento da aleta). Após feito isso, definimos as condições de contorno que se resumem ao fato da temperatura da base ser a mesma e nunca mudar ( = $100 ℃$), e também ao fato da temperatura da extremidade da aleta ser a mesma ao longo do tempo ( = $25 ℃$).\n",
    "\n",
    "Depois, para calcular a temperatura em cada um dos pontos selecionados no comprimento da aleta, utilizamos a equação descrita na figura 2 e fomos adicionando essas temperaturas em uma lista. Com a lista de todos os pontos ao longo do comprimento da aleta e das temperaturas associadas a cada um desses pontos, foi possível então plotar o gráfico da temperatura [℃] ao longo do comprimento da aleta [m] e isso tudo ao longo do tempo - que utilizamos 1000 segundos. \n"
   ]
  },
  {
   "cell_type": "code",
   "execution_count": 2,
   "metadata": {},
   "outputs": [],
   "source": [
    "def calculo_T_numerico(delta_x, r, h, k, T_extremidade, T_b, Tinf, alfa, t_total, tol):\n",
    "    lista_erro = []\n",
    "    # Cálculo da área de transferência de calor na aleta.\n",
    "    Atr = pi*(r**2)\n",
    "    \n",
    "    # Cálculo do perímetro da área de seção transversal da aleta.\n",
    "    P = 2*pi*r\n",
    "    \n",
    "    # Cálculo do delta t a fim de manter a estabilidade.\n",
    "    den_delta_t = ((h*P*(delta_x**2))/(k*Atr))+2\n",
    "    delta_t = ((delta_x**2)/ (alfa*den_delta_t))*0.99\n",
    "\n",
    "    # Número de passos no tempo, isto é, tempo total dividido por delta x. \n",
    "    n_tempo =  len(np.arange(0, t_total, delta_t)) \n",
    "    \n",
    "    # Número de pontos ao longo do comprimento da aleta.\n",
    "    n_x = int(L/delta_x) + 1   \n",
    "\n",
    "\n",
    "    # Montando a matriz de zeros:\n",
    "    TM = np.zeros((n_tempo, n_x))\n",
    "    \n",
    "    # Condições de contorno:\n",
    "    # Temperatura na base ao longo do tempo é a mesma.\n",
    "    TM[:, 0] = T_b\n",
    "    \n",
    "    # Temperatura na extremidade ao longo do tempo é a mesma. \n",
    "    TM[:, n_x-1] = T_extremidade  \n",
    "\n",
    "    tempo_tol_atingida = 0\n",
    "    for l in range(0, n_tempo-1):\n",
    "        for i in range(1, n_x-1):\n",
    "            termo1 = (TM[l, i+1] - 2*TM[l,i] + TM[l, i-1])/(delta_x**2)\n",
    "            termo2 = (h*P*(TM[l,i]-T_inf))/(k*Atr)\n",
    "            TM[l+1, i] = (TM[l,i] + alfa*delta_t*(termo1 - termo2)) \n",
    "            \n",
    "        erro_final = np.amax(abs((TM[l+1, 1:-1]-TM[l, 1:-1])/TM[l+1, 1:-1]))\n",
    "        lista_erro.append(erro_final)\n",
    "\n",
    "        if tol >= erro_final:\n",
    "            print('\\n\\nConvergiu!', l)\n",
    "            tempo_tol_atingida = l\n",
    "            \n",
    "            break\n",
    "\n",
    "    instante = n_tempo \n",
    "    x = np.linspace(0.0, L, n_x)\n",
    "    T = np.array(TM[tempo_tol_atingida, :])\n",
    "\n",
    "    plt.plot(x, T, color=\"darkcyan\")\n",
    "    plt.title(\"Gráfico de temperatura por comprimento\")\n",
    "    plt.xlabel(\"Valores de x [m]\")\n",
    "    plt.ylabel(\"Valores de temperatura [C]\")\n",
    "    plt.grid()\n",
    "    plt.show()\n",
    "    \n",
    "    "
   ]
  },
  {
   "cell_type": "code",
   "execution_count": 3,
   "metadata": {},
   "outputs": [
    {
     "name": "stdout",
     "output_type": "stream",
     "text": [
      "\n",
      "\n",
      "Convergiu! 99289\n"
     ]
    },
    {
     "data": {
      "image/png": "[encoded data removed]",
      "text/plain": [
       "<Figure size 432x288 with 1 Axes>"
      ]
     },
     "metadata": {
      "needs_background": "light"
     },
     "output_type": "display_data"
    }
   ],
   "source": [
    "calculo_T_numerico(delta_x, r, h, k, T_L, T_b, T_inf, alfa, t_total, tol)"
   ]
  },
  {
   "cell_type": "markdown",
   "metadata": {},
   "source": [
    "<h5> Pergunta </h5>\n",
    "\n",
    "3) Para validar os resultados obtidos com o software desenvolvido, apresente um gráfico (𝑇𝑒𝑚𝑝𝑒𝑟𝑎𝑡𝑢𝑟𝑎 × 𝑝𝑜𝑠𝑖çã𝑜) para o comportamento analítico da temperatura na aleta usando as mesmas condições definidas no item anterior. \n",
    "\n",
    "<h5> Resposta </h5>\n",
    "\n",
    "Para montar um gráfico que mostra o comportamento analítico da temperatura na aleta, começamos analisando qual seria o caso que representa melhor a distribuição de temperatura no objeto estudado. De acordo com as condições de contorno que foram providas pelo exercício, o melhor caso seria o C, isto é, o caso em que a distribuição de temperatura e a transferência de calor através da aleta estão restringidos a uma temperatura especificada na extremidade da aleta. Isso porque foi definido que $T(L) = 25  ℃$ ao longo de todos os pontos no intervalo de tempo estabelecido.\n",
    "\n",
    "\n",
    "Assim, usando a fórmula de distribuição de temperatura apresentada na aula 6  e manipulando-a a fim de calcular a temperatura para todos os pontos ao longo do comprimento da aleta, foi possível montar o gráfico pedido no exercício. A manipulação da fórmula encontra-se abaixo na figura 4:\n",
    "\n",
    "<div align=\"center\">\n",
    "<figure>\n",
    "<img src=\"eq3_aps2_certo.png\" alt=\"Drawing\" style=\"width: 550px;\"/>\n",
    "<figcaption align = \"center\"> Figura 4 - Manipulação da fórmula de distribuição de temperatura apresentada na aula 6.</figcaption>\n",
    "</figure>\n",
    "</div>"
   ]
  },
  {
   "cell_type": "code",
   "execution_count": 4,
   "metadata": {},
   "outputs": [],
   "source": [
    "# Resolução analítica\n",
    "\n",
    "def calculo_T_analitico(delta_x, r, h, k, T_L, T_b, T_inf, alfa, t_total):\n",
    "    # Cálculo da área de transferência de calor na aleta.\n",
    "    Atr = pi*(r**2)\n",
    "    \n",
    "    # Cálculo do perímetro da área de seção transversal da aleta.\n",
    "    P = 2*pi*r\n",
    "    \n",
    "    # Cálculo do termo m  \n",
    "    m = sqrt((h*P)/(k*Atr))\n",
    "    \n",
    "    # Cálculo do delta t a fim de manter a estabilidade.\n",
    "    den_delta_t = ((h*P*(delta_x**2))/(k*Atr))+2\n",
    "    delta_t = ((delta_x**2)/ (alfa*den_delta_t))*0.99\n",
    "\n",
    "    # Número de passos no tempo, isto é, tempo total dividido por delta x. \n",
    "    n_passos =  len(np.arange(0, t_total, delta_t))\n",
    "    \n",
    "    # Número de pontos ao longo do comprimento da aleta.\n",
    "    lista_x = np.linspace(0, L, n_passos)\n",
    "    listaTemp = []\n",
    "    \n",
    "    # T[i] = ((((T[L] - T_inf)/(T_b - T_inf))*sinh(m*x) + sinh(m*(L-x)))/(sinh(m*L)))*(T_b - T_inf) + T_inf\n",
    "\n",
    "    for x in lista_x:\n",
    "        teta_l_teta_b = ((T_L - T_inf)/(T_b - T_inf))\n",
    "        numerador = teta_l_teta_b*sinh(m*x) + sinh(m*(L-x))\n",
    "        denominador = sinh(m*L)\n",
    "        fracao = (numerador/denominador)*(T_b - T_inf) + T_inf\n",
    "        listaTemp.append(fracao)\n",
    "\n",
    "\n",
    "    plt.plot(lista_x, listaTemp, color=\"red\")\n",
    "    plt.title(\"Gráfico de T(x) por x\")\n",
    "    plt.xlabel(\"Valores de x [de 0 até L em metros]\")\n",
    "    plt.ylabel(\"Valores de T(x) em Celsius\")\n",
    "    plt.grid()\n",
    "\n",
    "\n",
    "\n",
    "\n"
   ]
  },
  {
   "cell_type": "code",
   "execution_count": 5,
   "metadata": {},
   "outputs": [
    {
     "data": {
      "image/png": "[encoded data removed]",
      "text/plain": [
       "<Figure size 432x288 with 1 Axes>"
      ]
     },
     "metadata": {
      "needs_background": "light"
     },
     "output_type": "display_data"
    }
   ],
   "source": [
    "calculo_T_analitico(delta_x, r, h, k, T_L, T_b, T_inf, alfa, t_total)\n"
   ]
  }
 ],
 "metadata": {
  "kernelspec": {
   "display_name": "Python 3",
   "language": "python",
   "name": "python3"
  },
  "language_info": {
   "codemirror_mode": {
    "name": "ipython",
    "version": 3
   },
   "file_extension": ".py",
   "mimetype": "text/x-python",
   "name": "python",
   "nbconvert_exporter": "python",
   "pygments_lexer": "ipython3",
   "version": "3.7.6"
  }
 },
 "nbformat": 4,
 "nbformat_minor": 4
}
